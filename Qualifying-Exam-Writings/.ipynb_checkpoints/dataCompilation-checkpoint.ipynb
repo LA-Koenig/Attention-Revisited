{
 "cells": [
  {
   "cell_type": "code",
   "execution_count": 1,
   "id": "35e09244-c5d1-4cca-90e8-cf4f6eb903b7",
   "metadata": {},
   "outputs": [],
   "source": [
    "import numpy as np\n",
    "import matplotlib.pyplot as plt"
   ]
  },
  {
   "cell_type": "code",
   "execution_count": 10,
   "id": "3bdd667c-5cc0-4c02-bd57-55c36c317be4",
   "metadata": {},
   "outputs": [],
   "source": [
    "labels = [\"SG\", \"SA\", \"FC\", \"NF\"]"
   ]
  },
  {
   "cell_type": "code",
   "execution_count": 3,
   "id": "54c64e58-efe5-485f-9a6e-30a212b4e579",
   "metadata": {},
   "outputs": [],
   "source": [
    "# 4 x 4 array; model x test\n",
    "theirWordAccuracies = np.array([[98.4333, 75.333, 98.3000, 100.0],   #SG\n",
    "                                [99.4   , 75.333, 98.9333, 100.0],   #SA\n",
    "                                [13.9333, 16.666, 84.8333, 99.9333], #FC\n",
    "                                [53.9333, 54.001, 55.3333, 57.533]])  #NF\n",
    "                            \n",
    "theirLetterAccuracies = np.array([[99.6111, 92.333, 99.0833, 100.0],   #SG\n",
    "                                  [99.8111, 92.222, 99.5500, 100.0],   #SA\n",
    "                                  [41.0333, 55.6111, 91.6611, 99.9778], #FC\n",
    "                                  [65.1611, 71.0555, 95.4444, 71.4166]])  #NF\n",
    "                                 \n",
    "myWordAccuracies = np.array([[98.333, 73.333, 97.666, 100.0],   #SG\n",
    "                             [98.666, 80.0, 99.666, 100.0],   #SA\n",
    "                             [5.333, 20.0, 52.666, 100.0], #FC\n",
    "                             [35.666, 50.0, 52.333, 59.999]])  #NF\n",
    "                            \n",
    "myLetterAccuracies = np.array([[99.555, 92.777, 99.0, 100.0],   #SG\n",
    "                               [99.666, 92.777, 99.944, 100.0],   #SA\n",
    "                               [28.444, 55.0, 65.555, 100.0], #FC\n",
    "                               [53.5, 67.777, 58.055, 72.277]])  #NF\n",
    "                             "
   ]
  },
  {
   "cell_type": "code",
   "execution_count": 4,
   "id": "662b373d-56ac-4ccd-94d4-85d856c75e65",
   "metadata": {},
   "outputs": [
    {
     "name": "stdout",
     "output_type": "stream",
     "text": [
      "[[ -0.1003  -2.      -0.634    0.    ]\n",
      " [ -0.734    4.667    0.7327   0.    ]\n",
      " [ -8.6003   3.334  -32.1673   0.0667]\n",
      " [-18.2673  -4.001   -3.0003   2.466 ]]\n"
     ]
    }
   ],
   "source": [
    "AcDifWord = myWordAccuracies - theirWordAccuracies\n",
    "print(AcDifWord)"
   ]
  },
  {
   "cell_type": "code",
   "execution_count": 5,
   "id": "0e317b18-da43-4017-8150-ae066ca332ee",
   "metadata": {},
   "outputs": [
    {
     "name": "stdout",
     "output_type": "stream",
     "text": [
      "[[-5.61000e-02  4.44000e-01 -8.33000e-02  0.00000e+00]\n",
      " [-1.45100e-01  5.55000e-01  3.94000e-01  0.00000e+00]\n",
      " [-1.25893e+01 -6.11100e-01 -2.61061e+01  2.22000e-02]\n",
      " [-1.16611e+01 -3.27850e+00 -3.73894e+01  8.60400e-01]]\n"
     ]
    }
   ],
   "source": [
    "AcDifLetter = myLetterAccuracies - theirLetterAccuracies\n",
    "print(AcDifLetter)"
   ]
  },
  {
   "cell_type": "code",
   "execution_count": 7,
   "id": "0c986061-5a69-45f4-a183-56be7e1c26c0",
   "metadata": {},
   "outputs": [],
   "source": [
    "theirWordDeviations = np.array([[1.0651, 6.51683477, 1.0899,  0.], #SG\n",
    "                                [ 0.4899, 6.12624372, 1.052, 0.], #SA\n",
    "                                [4.1333, 2.22222233, 9.1388, 0.21081862], #FC\n",
    "                                [4.4642, 4.09757536, 3.8151, 6.91429009]]) #NF\n",
    "\n",
    "theirLetterDeviations = np.array([[0.2612, 1.9387042, 0.743, 0.], #SG\n",
    "                                  [0.1614, 2.0951312, 0.5238, 0.], #SA\n",
    "                                  [7.0561, 5.83524369, 6.148, 0.07027277], #FC\n",
    "                                  [4.0325, 3.72631972, 4.2712, 4.6052134 ]]) #NF"
   ]
  },
  {
   "cell_type": "code",
   "execution_count": 16,
   "id": "3a6f6513-9d5b-4a9e-862c-6510cb07249b",
   "metadata": {},
   "outputs": [
    {
     "name": "stdout",
     "output_type": "stream",
     "text": [
      "\\hline\n",
      "SG & -0.10 & -0.06 & -2.00 & 0.44 & -0.63 & -0.08 & 0.00 & 0.00\n",
      "Deviations  & 1.07 & 0.26 & 6.52 & 1.94 & 1.09 & 0.74 & 0.00 & 0.00\n",
      "\\hline\n",
      "SA & -0.73 & -0.15 & 4.67 & 0.56 & 0.73 & 0.39 & 0.00 & 0.00\n",
      "Deviations  & 0.49 & 0.16 & 6.13 & 2.10 & 1.05 & 0.52 & 0.00 & 0.00\n",
      "\\hline\n",
      "FC & -8.60 & -12.59 & 3.33 & -0.61 & -32.17 & -26.11 & 0.07 & 0.02\n",
      "Deviations  & 4.13 & 7.06 & 2.22 & 5.84 & 9.14 & 6.15 & 0.21 & 0.07\n",
      "\\hline\n",
      "NF & -18.27 & -11.66 & -4.00 & -3.28 & -3.00 & -37.39 & 2.47 & 0.86\n",
      "Deviations  & 4.46 & 4.03 & 4.10 & 3.73 & 3.82 & 4.27 & 6.91 & 4.61\n"
     ]
    }
   ],
   "source": [
    "difTab = labels.copy()\n",
    "deviationsTab = [\"Deviations \", \"Deviations \", \"Deviations \", \"Deviations \"]\n",
    "\n",
    "for i in range(0, 4):\n",
    "    for j in range(0, 4):\n",
    "        difTab[i] = difTab[i] + \" & \" + str(\"%.4f\" %AcDifWord[i,j]) + \" & \" + str(\"%.4f\" %AcDifLetter[i,j])\n",
    "        deviationsTab[i] = deviationsTab[i] + \" & \" + str(\"%.4f\" %theirWordDeviations[i,j]) + \" & \" + str(\"%.4f\" %theirLetterDeviations[i,j])\n",
    "    print(\"\\hline\")\n",
    "    print(difTab[i])\n",
    "    print(deviationsTab[i])\n",
    "    "
   ]
  },
  {
   "cell_type": "code",
   "execution_count": null,
   "id": "d2bbf0b7-1045-4b47-9bbf-9250f762d286",
   "metadata": {},
   "outputs": [],
   "source": []
  }
 ],
 "metadata": {
  "kernelspec": {
   "display_name": "Python 3 (ipykernel)",
   "language": "python",
   "name": "python3"
  },
  "language_info": {
   "codemirror_mode": {
    "name": "ipython",
    "version": 3
   },
   "file_extension": ".py",
   "mimetype": "text/x-python",
   "name": "python",
   "nbconvert_exporter": "python",
   "pygments_lexer": "ipython3",
   "version": "3.9.10"
  }
 },
 "nbformat": 4,
 "nbformat_minor": 5
}
