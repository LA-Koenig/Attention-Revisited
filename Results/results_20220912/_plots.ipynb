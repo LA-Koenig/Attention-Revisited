{
 "cells": [
  {
   "cell_type": "code",
   "execution_count": 1,
   "id": "1c93523d-1ec0-4ea6-b307-a5d139033c5c",
   "metadata": {},
   "outputs": [],
   "source": [
    "import numpy as np\n",
    "import matplotlib.pyplot as plt"
   ]
  },
  {
   "cell_type": "markdown",
   "id": "01ca1950-9400-4015-b269-37184d43be11",
   "metadata": {},
   "source": [
    "## Standard Generalization"
   ]
  },
  {
   "cell_type": "code",
   "execution_count": 9,
   "id": "a7bc0102-0a9a-4aed-ae0d-351d2fc06b3c",
   "metadata": {},
   "outputs": [],
   "source": [
    "#Load the data\n",
    "\n",
    "letter_LSTM_LSTM_SG = np.loadtxt('letter_results_LSTM_LSTM_SG.txt')\n",
    "word_LSTM_LSTM_SG = np.loadtxt('word_results_LSTM_LSTM_SG.txt')\n",
    "\n",
    "letter_LSTM_Transformer_SG = np.loadtxt('letter_results_LSTM_Transformer_SG.txt')\n",
    "word_LSTM_Transformer_SG = np.loadtxt('word_results_LSTM_Transformer_SG.txt')\n",
    "\n",
    "letter_Transformer_LSTM_SG = np.loadtxt('letter_results_Transformer_LSTM_SG.txt')\n",
    "word_Transformer_LSTM_SG = np.loadtxt('word_results_Transformer_LSTM_SG.txt')\n",
    "\n",
    "letter_Transformer_Transformer_SG = np.loadtxt('letter_results_Transformer_Transformer_SG.txt')\n",
    "word_Transformer_Transformer_SG = np.loadtxt('word_results_Transformer_Transformer_SG.txt')"
   ]
  },
  {
   "cell_type": "code",
   "execution_count": 11,
   "id": "62e9b3e2-4b35-47b5-b204-f3110c70601b",
   "metadata": {},
   "outputs": [],
   "source": [
    "# Calculate the average\n",
    "\n",
    "letter_LSTM_LSTM_SG_mean = np.mean(letter_LSTM_LSTM_SG)\n",
    "word_LSTM_LSTM_SG_mean = np.mean(word_LSTM_LSTM_SG)\n",
    "\n",
    "letter_LSTM_Transformer_SG_mean = np.mean(letter_LSTM_Transformer_SG)\n",
    "word_LSTM_Transformer_SG_mean = np.mean(word_LSTM_Transformer_SG)\n",
    "\n",
    "letter_Transformer_LSTM_SG_mean = np.mean(letter_Transformer_LSTM_SG)\n",
    "word_Transformer_LSTM_SG_mean = np.mean(word_Transformer_LSTM_SG)\n",
    "\n",
    "letter_Transformer_Transformer_SG_mean = np.mean(letter_Transformer_Transformer_SG)\n",
    "word_Transformer_Transformer_SG_mean = np.mean(word_Transformer_Transformer_SG)"
   ]
  },
  {
   "cell_type": "code",
   "execution_count": 12,
   "id": "99c18772-2a4d-4da4-818a-5184ac141065",
   "metadata": {},
   "outputs": [],
   "source": [
    "# Calculate the standard deviation\n",
    "\n",
    "letter_LSTM_LSTM_SG_std = np.std(letter_LSTM_LSTM_SG)\n",
    "word_LSTM_LSTM_SG_std = np.std(word_LSTM_LSTM_SG)\n",
    "\n",
    "letter_LSTM_Transformer_SG_std = np.std(letter_LSTM_Transformer_SG)\n",
    "word_LSTM_Transformer_SG_std = np.std(word_LSTM_Transformer_SG)\n",
    "\n",
    "letter_Transformer_LSTM_SG_std = np.std(letter_Transformer_LSTM_SG)\n",
    "word_Transformer_LSTM_SG_std = np.std(word_Transformer_LSTM_SG)\n",
    "\n",
    "letter_Transformer_Transformer_SG_std = np.std(letter_Transformer_Transformer_SG)\n",
    "word_Transformer_Transformer_SG_std = np.std(word_Transformer_Transformer_SG)"
   ]
  },
  {
   "cell_type": "code",
   "execution_count": 19,
   "id": "9a51668e-fd28-40fe-b5fa-8741c1a19a5e",
   "metadata": {},
   "outputs": [],
   "source": [
    "labels = ['LSTM/\\nLSTM', 'LSTM/\\nTransformer', 'Transformer/\\nLSTM', 'Transformer/\\nTransformer']\n",
    "x_pos = np.arange(len(labels))\n",
    "\n",
    "letter_CTEs = [letter_LSTM_LSTM_SG_mean, letter_LSTM_Transformer_SG_mean, \n",
    "               letter_Transformer_LSTM_SG_mean, letter_Transformer_Transformer_SG_mean]\n",
    "word_CTEs = [word_LSTM_LSTM_SG_mean, word_LSTM_Transformer_SG_mean, \n",
    "               word_Transformer_LSTM_SG_mean, word_Transformer_Transformer_SG_mean]\n",
    "\n",
    "letter_error = [letter_LSTM_LSTM_SG_std, letter_LSTM_Transformer_SG_std, \n",
    "               letter_Transformer_LSTM_SG_std, letter_Transformer_Transformer_SG_std]\n",
    "word_error = [word_LSTM_LSTM_SG_std, word_LSTM_Transformer_SG_std, \n",
    "               word_Transformer_LSTM_SG_std, word_Transformer_Transformer_SG_std]"
   ]
  },
  {
   "cell_type": "code",
   "execution_count": 32,
   "id": "41471c73-2f2c-42cd-a083-8216f3aeb314",
   "metadata": {},
   "outputs": [
    {
     "data": {
      "text/plain": [
       "<function matplotlib.pyplot.show(close=None, block=None)>"
      ]
     },
     "execution_count": 32,
     "metadata": {},
     "output_type": "execute_result"
    },
    {
     "data": {
      "image/png": "[encoded data removed]",
      "text/plain": [
       "<Figure size 432x288 with 1 Axes>"
      ]
     },
     "metadata": {
      "needs_background": "light"
     },
     "output_type": "display_data"
    },
    {
     "data": {
      "image/png": "[encoded data removed]",
      "text/plain": [
       "<Figure size 432x288 with 1 Axes>"
      ]
     },
     "metadata": {
      "needs_background": "light"
     },
     "output_type": "display_data"
    }
   ],
   "source": [
    "fig, ax = plt.subplots()\n",
    "ax.bar(x_pos, letter_CTEs,\n",
    "       yerr=letter_error,\n",
    "       align = 'center',\n",
    "       alpha = 0.5,\n",
    "       ecolor = 'black',\n",
    "       capsize=10)\n",
    "ax.set_ylabel('Accuracy (%)')\n",
    "ax.set_ylim([0, 100])\n",
    "ax.set_xticks(x_pos)\n",
    "ax.set_xticklabels(labels)\n",
    "ax.set_title('Letter accuracy for Standard Generalization (SG)')\n",
    "ax.yaxis.grid(True)\n",
    "\n",
    "plt.tight_layout()\n",
    "plt.show\n",
    "\n",
    "\n",
    "fig, ax = plt.subplots()\n",
    "ax.bar(x_pos, word_CTEs,\n",
    "       yerr=word_error,\n",
    "       align = 'center',\n",
    "       alpha = 0.5,\n",
    "       ecolor = 'black',\n",
    "       capsize=10)\n",
    "ax.set_ylabel('Accuracy (%)')\n",
    "ax.set_ylim([0, 100])\n",
    "ax.set_xticks(x_pos)\n",
    "ax.set_xticklabels(labels)\n",
    "ax.set_title('Word accuracy for Standard Generalization (SG)')\n",
    "ax.yaxis.grid(True)\n",
    "plt.tight_layout()\n",
    "plt.show"
   ]
  },
  {
   "cell_type": "markdown",
   "id": "6a7e6994-b05c-4b13-b86b-de24b300bb27",
   "metadata": {},
   "source": [
    "## Spurious Anticorrelation"
   ]
  },
  {
   "cell_type": "code",
   "execution_count": 23,
   "id": "fea3ead2-94c8-4c7a-88c4-7a175e645b2f",
   "metadata": {},
   "outputs": [],
   "source": [
    "#Load the data\n",
    "\n",
    "letter_LSTM_LSTM_SA = np.loadtxt('letter_results_LSTM_LSTM_SA.txt')\n",
    "word_LSTM_LSTM_SA = np.loadtxt('word_results_LSTM_LSTM_SA.txt')\n",
    "\n",
    "letter_LSTM_Transformer_SA = np.loadtxt('letter_results_LSTM_Transformer_SA.txt')\n",
    "word_LSTM_Transformer_SA = np.loadtxt('word_results_LSTM_Transformer_SA.txt')\n",
    "\n",
    "letter_Transformer_LSTM_SA = np.loadtxt('letter_results_Transformer_LSTM_SA.txt')\n",
    "word_Transformer_LSTM_SA = np.loadtxt('word_results_Transformer_LSTM_SA.txt')\n",
    "\n",
    "letter_Transformer_Transformer_SA = np.loadtxt('letter_results_Transformer_Transformer_SA.txt')\n",
    "word_Transformer_Transformer_SA = np.loadtxt('word_results_Transformer_Transformer_SA.txt')"
   ]
  },
  {
   "cell_type": "code",
   "execution_count": 24,
   "id": "72d495bd-5fc3-44e0-aca9-60c50ff34b8a",
   "metadata": {},
   "outputs": [],
   "source": [
    "# Calculate the average\n",
    "\n",
    "letter_LSTM_LSTM_SA_mean = np.mean(letter_LSTM_LSTM_SA)\n",
    "word_LSTM_LSTM_SA_mean = np.mean(word_LSTM_LSTM_SA)\n",
    "\n",
    "letter_LSTM_Transformer_SA_mean = np.mean(letter_LSTM_Transformer_SA)\n",
    "word_LSTM_Transformer_SA_mean = np.mean(word_LSTM_Transformer_SA)\n",
    "\n",
    "letter_Transformer_LSTM_SA_mean = np.mean(letter_Transformer_LSTM_SA)\n",
    "word_Transformer_LSTM_SA_mean = np.mean(word_Transformer_LSTM_SA)\n",
    "\n",
    "letter_Transformer_Transformer_SA_mean = np.mean(letter_Transformer_Transformer_SA)\n",
    "word_Transformer_Transformer_SA_mean = np.mean(word_Transformer_Transformer_SA)"
   ]
  },
  {
   "cell_type": "code",
   "execution_count": 25,
   "id": "9d004c1c-a9fe-4bd7-bf19-766c472fb10c",
   "metadata": {},
   "outputs": [],
   "source": [
    "# Calculate the standard deviation\n",
    "\n",
    "letter_LSTM_LSTM_SA_std = np.std(letter_LSTM_LSTM_SA)\n",
    "word_LSTM_LSTM_SA_std = np.std(word_LSTM_LSTM_SA)\n",
    "\n",
    "letter_LSTM_Transformer_SA_std = np.std(letter_LSTM_Transformer_SA)\n",
    "word_LSTM_Transformer_SA_std = np.std(word_LSTM_Transformer_SA)\n",
    "\n",
    "letter_Transformer_LSTM_SA_std = np.std(letter_Transformer_LSTM_SA)\n",
    "word_Transformer_LSTM_SA_std = np.std(word_Transformer_LSTM_SA)\n",
    "\n",
    "letter_Transformer_Transformer_SA_std = np.std(letter_Transformer_Transformer_SA)\n",
    "word_Transformer_Transformer_SA_std = np.std(word_Transformer_Transformer_SA)"
   ]
  },
  {
   "cell_type": "code",
   "execution_count": 27,
   "id": "44ffb3fe-32ce-4bae-be7a-555bb9017f95",
   "metadata": {},
   "outputs": [],
   "source": [
    "labels = ['LSTM/\\nLSTM', 'LSTM/\\nTransformer', 'Transformer/\\nLSTM', 'Transformer/\\nTransformer']\n",
    "x_pos = np.arange(len(labels))\n",
    "\n",
    "SA_letter_CTEs = [letter_LSTM_LSTM_SA_mean, letter_LSTM_Transformer_SA_mean, \n",
    "               letter_Transformer_LSTM_SA_mean, letter_Transformer_Transformer_SA_mean]\n",
    "SA_word_CTEs = [word_LSTM_LSTM_SA_mean, word_LSTM_Transformer_SA_mean, \n",
    "               word_Transformer_LSTM_SA_mean, word_Transformer_Transformer_SA_mean]\n",
    "\n",
    "SA_letter_error = [letter_LSTM_LSTM_SA_std, letter_LSTM_Transformer_SA_std, \n",
    "               letter_Transformer_LSTM_SA_std, letter_Transformer_Transformer_SA_std]\n",
    "SA_word_error = [word_LSTM_LSTM_SA_std, word_LSTM_Transformer_SA_std, \n",
    "               word_Transformer_LSTM_SA_std, word_Transformer_Transformer_SA_std]"
   ]
  },
  {
   "cell_type": "code",
   "execution_count": 34,
   "id": "16e4f847-f1bb-447b-b03f-b4441231a1c3",
   "metadata": {},
   "outputs": [
    {
     "data": {
      "text/plain": [
       "<function matplotlib.pyplot.show(close=None, block=None)>"
      ]
     },
     "execution_count": 34,
     "metadata": {},
     "output_type": "execute_result"
    },
    {
     "data": {
      "image/png": "[encoded data removed]",
      "text/plain": [
       "<Figure size 432x288 with 1 Axes>"
      ]
     },
     "metadata": {
      "needs_background": "light"
     },
     "output_type": "display_data"
    },
    {
     "data": {
      "image/png": "[encoded data removed]",
      "text/plain": [
       "<Figure size 432x288 with 1 Axes>"
      ]
     },
     "metadata": {
      "needs_background": "light"
     },
     "output_type": "display_data"
    }
   ],
   "source": [
    "fig, ax = plt.subplots()\n",
    "ax.bar(x_pos, SA_letter_CTEs,\n",
    "       yerr=SA_letter_error,\n",
    "       align = 'center',\n",
    "       alpha = 0.5,\n",
    "       ecolor = 'black',\n",
    "       capsize=10)\n",
    "ax.set_ylabel('Accuracy (%)')\n",
    "ax.set_ylim([0, 100])\n",
    "ax.set_xticks(x_pos)\n",
    "ax.set_xticklabels(labels)\n",
    "ax.set_title('Letter accuracy for Spurious Anticorrelation (SA)')\n",
    "ax.yaxis.grid(True)\n",
    "\n",
    "plt.tight_layout()\n",
    "plt.show\n",
    "\n",
    "\n",
    "fig, ax = plt.subplots()\n",
    "ax.bar(x_pos, SA_word_CTEs,\n",
    "       yerr=SA_word_error,\n",
    "       align = 'center',\n",
    "       alpha = 0.5,\n",
    "       ecolor = 'black',\n",
    "       capsize=10)\n",
    "ax.set_ylabel('Accuracy (%)')\n",
    "ax.set_ylim([0, 100])\n",
    "ax.set_xticks(x_pos)\n",
    "ax.set_xticklabels(labels)\n",
    "ax.set_title('Word accuracy for Spurious Anticorrelation (SA)')\n",
    "ax.yaxis.grid(True)\n",
    "\n",
    "plt.tight_layout()\n",
    "plt.show"
   ]
  },
  {
   "cell_type": "markdown",
   "id": "4b2188fb-41a9-4fe1-b34e-1d6bb61a0c88",
   "metadata": {},
   "source": [
    "## Full Combinatorial"
   ]
  },
  {
   "cell_type": "code",
   "execution_count": 35,
   "id": "bbdf3daf-c369-4b9a-9c58-79c3406870bf",
   "metadata": {},
   "outputs": [],
   "source": [
    "#Load the data\n",
    "\n",
    "letter_LSTM_LSTM_FC = np.loadtxt('letter_results_LSTM_LSTM_FC.txt')\n",
    "word_LSTM_LSTM_FC = np.loadtxt('word_results_LSTM_LSTM_FC.txt')\n",
    "\n",
    "letter_LSTM_Transformer_FC = np.loadtxt('letter_results_LSTM_Transformer_FC.txt')\n",
    "word_LSTM_Transformer_FC = np.loadtxt('word_results_LSTM_Transformer_FC.txt')\n",
    "\n",
    "letter_Transformer_LSTM_FC = np.loadtxt('letter_results_Transformer_LSTM_FC.txt')\n",
    "word_Transformer_LSTM_FC = np.loadtxt('word_results_Transformer_LSTM_FC.txt')\n",
    "\n",
    "letter_Transformer_Transformer_FC = np.loadtxt('letter_results_Transformer_Transformer_FC.txt')\n",
    "word_Transformer_Transformer_FC = np.loadtxt('word_results_Transformer_Transformer_FC.txt')"
   ]
  },
  {
   "cell_type": "code",
   "execution_count": 36,
   "id": "5a1c2b84-5ff9-46a4-8b53-cc891777b6a4",
   "metadata": {},
   "outputs": [],
   "source": [
    "# Calculate the average\n",
    "\n",
    "letter_LSTM_LSTM_FC_mean = np.mean(letter_LSTM_LSTM_FC)\n",
    "word_LSTM_LSTM_FC_mean = np.mean(word_LSTM_LSTM_FC)\n",
    "\n",
    "letter_LSTM_Transformer_FC_mean = np.mean(letter_LSTM_Transformer_FC)\n",
    "word_LSTM_Transformer_FC_mean = np.mean(word_LSTM_Transformer_FC)\n",
    "\n",
    "letter_Transformer_LSTM_FC_mean = np.mean(letter_Transformer_LSTM_FC)\n",
    "word_Transformer_LSTM_FC_mean = np.mean(word_Transformer_LSTM_FC)\n",
    "\n",
    "letter_Transformer_Transformer_FC_mean = np.mean(letter_Transformer_Transformer_FC)\n",
    "word_Transformer_Transformer_FC_mean = np.mean(word_Transformer_Transformer_FC)"
   ]
  },
  {
   "cell_type": "code",
   "execution_count": 37,
   "id": "e1e010df-dc82-484a-8b2c-fb911b6cd7df",
   "metadata": {},
   "outputs": [],
   "source": [
    "# Calculate the standard deviation\n",
    "\n",
    "letter_LSTM_LSTM_FC_std = np.std(letter_LSTM_LSTM_FC)\n",
    "word_LSTM_LSTM_FC_std = np.std(word_LSTM_LSTM_FC)\n",
    "\n",
    "letter_LSTM_Transformer_FC_std = np.std(letter_LSTM_Transformer_FC)\n",
    "word_LSTM_Transformer_FC_std = np.std(word_LSTM_Transformer_FC)\n",
    "\n",
    "letter_Transformer_LSTM_FC_std = np.std(letter_Transformer_LSTM_FC)\n",
    "word_Transformer_LSTM_FC_std = np.std(word_Transformer_LSTM_FC)\n",
    "\n",
    "letter_Transformer_Transformer_FC_std = np.std(letter_Transformer_Transformer_FC)\n",
    "word_Transformer_Transformer_FC_std = np.std(word_Transformer_Transformer_FC)"
   ]
  },
  {
   "cell_type": "code",
   "execution_count": 38,
   "id": "44f66a23-5f82-428b-8073-a0f09563e142",
   "metadata": {},
   "outputs": [],
   "source": [
    "labels = ['LSTM/\\nLSTM', 'LSTM/\\nTransformer', 'Transformer/\\nLSTM', 'Transformer/\\nTransformer']\n",
    "x_pos = np.arange(len(labels))\n",
    "\n",
    "FC_letter_CTEs = [letter_LSTM_LSTM_FC_mean, letter_LSTM_Transformer_FC_mean, \n",
    "               letter_Transformer_LSTM_FC_mean, letter_Transformer_Transformer_FC_mean]\n",
    "FC_word_CTEs = [word_LSTM_LSTM_FC_mean, word_LSTM_Transformer_FC_mean, \n",
    "               word_Transformer_LSTM_FC_mean, word_Transformer_Transformer_FC_mean]\n",
    "\n",
    "FC_letter_error = [letter_LSTM_LSTM_FC_std, letter_LSTM_Transformer_FC_std, \n",
    "               letter_Transformer_LSTM_FC_std, letter_Transformer_Transformer_FC_std]\n",
    "FC_word_error = [word_LSTM_LSTM_FC_std, word_LSTM_Transformer_FC_std, \n",
    "               word_Transformer_LSTM_FC_std, word_Transformer_Transformer_FC_std]"
   ]
  },
  {
   "cell_type": "code",
   "execution_count": 40,
   "id": "88b77f7e-945d-4fe5-b2bc-c2597e5f64a7",
   "metadata": {},
   "outputs": [
    {
     "data": {
      "text/plain": [
       "<function matplotlib.pyplot.show(close=None, block=None)>"
      ]
     },
     "execution_count": 40,
     "metadata": {},
     "output_type": "execute_result"
    },
    {
     "data": {
      "image/png": "[encoded data removed]",
      "text/plain": [
       "<Figure size 432x288 with 1 Axes>"
      ]
     },
     "metadata": {
      "needs_background": "light"
     },
     "output_type": "display_data"
    },
    {
     "data": {
      "image/png": "[encoded data removed]",
      "text/plain": [
       "<Figure size 432x288 with 1 Axes>"
      ]
     },
     "metadata": {
      "needs_background": "light"
     },
     "output_type": "display_data"
    }
   ],
   "source": [
    "fig, ax = plt.subplots()\n",
    "ax.bar(x_pos, FC_letter_CTEs,\n",
    "       yerr=FC_letter_error,\n",
    "       align = 'center',\n",
    "       alpha = 0.5,\n",
    "       ecolor = 'black',\n",
    "       capsize=10)\n",
    "ax.set_ylabel('Accuracy (%)')\n",
    "ax.set_ylim([0, 100])\n",
    "ax.set_xticks(x_pos)\n",
    "ax.set_xticklabels(labels)\n",
    "ax.set_title('Letter accuracy for Full Combinatorial (FC)')\n",
    "ax.yaxis.grid(True)\n",
    "\n",
    "plt.tight_layout()\n",
    "plt.show\n",
    "\n",
    "\n",
    "fig, ax = plt.subplots()\n",
    "ax.bar(x_pos, FC_word_CTEs,\n",
    "       yerr=FC_word_error,\n",
    "       align = 'center',\n",
    "       alpha = 0.5,\n",
    "       ecolor = 'black',\n",
    "       capsize=10)\n",
    "ax.set_ylabel('Accuracy (%)')\n",
    "ax.set_ylim([0, 100])\n",
    "ax.set_xticks(x_pos)\n",
    "ax.set_xticklabels(labels)\n",
    "ax.set_title('Word accuracy for Full Combinatorial (FC)')\n",
    "ax.yaxis.grid(True)\n",
    "\n",
    "plt.tight_layout()\n",
    "plt.show"
   ]
  },
  {
   "cell_type": "markdown",
   "id": "76e3fff6-520e-40ac-be4e-f05d365b3585",
   "metadata": {},
   "source": [
    "## Novel Filler (NF)"
   ]
  },
  {
   "cell_type": "code",
   "execution_count": 41,
   "id": "bdf3ccdd-dc85-46b7-9444-5170fb824506",
   "metadata": {},
   "outputs": [],
   "source": [
    "#Load the data\n",
    "\n",
    "letter_LSTM_LSTM_NF = np.loadtxt('letter_results_LSTM_LSTM_NF.txt')\n",
    "word_LSTM_LSTM_NF = np.loadtxt('word_results_LSTM_LSTM_NF.txt')\n",
    "\n",
    "letter_LSTM_Transformer_NF = np.loadtxt('letter_results_LSTM_Transformer_NF.txt')\n",
    "word_LSTM_Transformer_NF = np.loadtxt('word_results_LSTM_Transformer_NF.txt')\n",
    "\n",
    "letter_Transformer_LSTM_NF = np.loadtxt('letter_results_Transformer_LSTM_NF.txt')\n",
    "word_Transformer_LSTM_NF = np.loadtxt('word_results_Transformer_LSTM_NF.txt')\n",
    "\n",
    "letter_Transformer_Transformer_NF = np.loadtxt('letter_results_Transformer_Transformer_NF.txt')\n",
    "word_Transformer_Transformer_NF = np.loadtxt('word_results_Transformer_Transformer_NF.txt')"
   ]
  },
  {
   "cell_type": "code",
   "execution_count": 42,
   "id": "160ce566-fe0b-45a1-93ea-9e1519713557",
   "metadata": {},
   "outputs": [],
   "source": [
    "# Calculate the average\n",
    "\n",
    "letter_LSTM_LSTM_NF_mean = np.mean(letter_LSTM_LSTM_NF)\n",
    "word_LSTM_LSTM_NF_mean = np.mean(word_LSTM_LSTM_NF)\n",
    "\n",
    "letter_LSTM_Transformer_NF_mean = np.mean(letter_LSTM_Transformer_NF)\n",
    "word_LSTM_Transformer_NF_mean = np.mean(word_LSTM_Transformer_NF)\n",
    "\n",
    "letter_Transformer_LSTM_NF_mean = np.mean(letter_Transformer_LSTM_NF)\n",
    "word_Transformer_LSTM_NF_mean = np.mean(word_Transformer_LSTM_NF)\n",
    "\n",
    "letter_Transformer_Transformer_NF_mean = np.mean(letter_Transformer_Transformer_NF)\n",
    "word_Transformer_Transformer_NF_mean = np.mean(word_Transformer_Transformer_NF)"
   ]
  },
  {
   "cell_type": "code",
   "execution_count": 43,
   "id": "a9b07432-602c-4da4-aae5-fad70b5ed6cd",
   "metadata": {},
   "outputs": [],
   "source": [
    "# Calculate the standard deviation\n",
    "\n",
    "letter_LSTM_LSTM_NF_std = np.std(letter_LSTM_LSTM_NF)\n",
    "word_LSTM_LSTM_NF_std = np.std(word_LSTM_LSTM_NF)\n",
    "\n",
    "letter_LSTM_Transformer_NF_std = np.std(letter_LSTM_Transformer_NF)\n",
    "word_LSTM_Transformer_NF_std = np.std(word_LSTM_Transformer_NF)\n",
    "\n",
    "letter_Transformer_LSTM_NF_std = np.std(letter_Transformer_LSTM_NF)\n",
    "word_Transformer_LSTM_NF_std = np.std(word_Transformer_LSTM_NF)\n",
    "\n",
    "letter_Transformer_Transformer_NF_std = np.std(letter_Transformer_Transformer_NF)\n",
    "word_Transformer_Transformer_NF_std = np.std(word_Transformer_Transformer_NF)"
   ]
  },
  {
   "cell_type": "code",
   "execution_count": 44,
   "id": "37ab36ea-6462-49f6-be37-464da752b4d9",
   "metadata": {},
   "outputs": [],
   "source": [
    "labels = ['LSTM/\\nLSTM', 'LSTM/\\nTransformer', 'Transformer/\\nLSTM', 'Transformer/\\nTransformer']\n",
    "x_pos = np.arange(len(labels))\n",
    "\n",
    "NF_letter_CTEs = [letter_LSTM_LSTM_NF_mean, letter_LSTM_Transformer_NF_mean, \n",
    "               letter_Transformer_LSTM_NF_mean, letter_Transformer_Transformer_NF_mean]\n",
    "NF_word_CTEs = [word_LSTM_LSTM_NF_mean, word_LSTM_Transformer_NF_mean, \n",
    "               word_Transformer_LSTM_NF_mean, word_Transformer_Transformer_NF_mean]\n",
    "\n",
    "NF_letter_error = [letter_LSTM_LSTM_NF_std, letter_LSTM_Transformer_NF_std, \n",
    "               letter_Transformer_LSTM_NF_std, letter_Transformer_Transformer_NF_std]\n",
    "NF_word_error = [word_LSTM_LSTM_NF_std, word_LSTM_Transformer_NF_std, \n",
    "               word_Transformer_LSTM_NF_std, word_Transformer_Transformer_NF_std]"
   ]
  },
  {
   "cell_type": "code",
   "execution_count": 46,
   "id": "a905be96-967b-4cfb-883c-b5f6b0de859c",
   "metadata": {},
   "outputs": [
    {
     "data": {
      "text/plain": [
       "<function matplotlib.pyplot.show(close=None, block=None)>"
      ]
     },
     "execution_count": 46,
     "metadata": {},
     "output_type": "execute_result"
    },
    {
     "data": {
      "image/png": "[encoded data removed]",
      "text/plain": [
       "<Figure size 432x288 with 1 Axes>"
      ]
     },
     "metadata": {
      "needs_background": "light"
     },
     "output_type": "display_data"
    },
    {
     "data": {
      "image/png": "[encoded data removed]",
      "text/plain": [
       "<Figure size 432x288 with 1 Axes>"
      ]
     },
     "metadata": {
      "needs_background": "light"
     },
     "output_type": "display_data"
    }
   ],
   "source": [
    "fig, ax = plt.subplots()\n",
    "ax.bar(x_pos, NF_letter_CTEs,\n",
    "       yerr=NF_letter_error,\n",
    "       align = 'center',\n",
    "       alpha = 0.5,\n",
    "       ecolor = 'black',\n",
    "       capsize=10)\n",
    "ax.set_ylabel('Accuracy (%)')\n",
    "ax.set_ylim([0, 100])\n",
    "ax.set_xticks(x_pos)\n",
    "ax.set_xticklabels(labels)\n",
    "ax.set_title('Letter accuracy for Novel Filler (NF)')\n",
    "ax.yaxis.grid(True)\n",
    "\n",
    "plt.tight_layout()\n",
    "plt.show\n",
    "\n",
    "\n",
    "fig, ax = plt.subplots()\n",
    "ax.bar(x_pos, NF_word_CTEs,\n",
    "       yerr=NF_word_error,\n",
    "       align = 'center',\n",
    "       alpha = 0.5,\n",
    "       ecolor = 'black',\n",
    "       capsize=10)\n",
    "ax.set_ylabel('Accuracy (%)')\n",
    "ax.set_ylim([0, 100])\n",
    "ax.set_xticks(x_pos)\n",
    "ax.set_xticklabels(labels)\n",
    "ax.set_title('Word accuracy for Novel Filler (NF)')\n",
    "ax.yaxis.grid(True)\n",
    "\n",
    "plt.tight_layout()\n",
    "plt.show"
   ]
  },
  {
   "cell_type": "code",
   "execution_count": null,
   "id": "53fe1131-020b-4aab-9f03-322bae9f353e",
   "metadata": {},
   "outputs": [],
   "source": []
  }
 ],
 "metadata": {
  "kernelspec": {
   "display_name": "Python 3 (ipykernel)",
   "language": "python",
   "name": "python3"
  },
  "language_info": {
   "codemirror_mode": {
    "name": "ipython",
    "version": 3
   },
   "file_extension": ".py",
   "mimetype": "text/x-python",
   "name": "python",
   "nbconvert_exporter": "python",
   "pygments_lexer": "ipython3",
   "version": "3.10.5"
  }
 },
 "nbformat": 4,
 "nbformat_minor": 5
}
