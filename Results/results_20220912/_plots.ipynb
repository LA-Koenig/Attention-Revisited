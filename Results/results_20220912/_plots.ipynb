{
 "cells": [
  {
   "cell_type": "code",
   "execution_count": 1,
   "id": "1c93523d-1ec0-4ea6-b307-a5d139033c5c",
   "metadata": {},
   "outputs": [],
   "source": [
    "import numpy as np\n",
    "import matplotlib.pyplot as plt"
   ]
  },
  {
   "cell_type": "markdown",
   "id": "01ca1950-9400-4015-b269-37184d43be11",
   "metadata": {},
   "source": [
    "## Standard Generalization"
   ]
  },
  {
   "cell_type": "code",
   "execution_count": 9,
   "id": "a7bc0102-0a9a-4aed-ae0d-351d2fc06b3c",
   "metadata": {},
   "outputs": [],
   "source": [
    "#Load the data\n",
    "\n",
    "letter_LSTM_LSTM_SG = np.loadtxt('letter_results_LSTM_LSTM_SG.txt')\n",
    "word_LSTM_LSTM_SG = np.loadtxt('word_results_LSTM_LSTM_SG.txt')\n",
    "\n",
    "letter_LSTM_Transformer_SG = np.loadtxt('letter_results_LSTM_Transformer_SG.txt')\n",
    "word_LSTM_Transformer_SG = np.loadtxt('word_results_LSTM_Transformer_SG.txt')\n",
    "\n",
    "letter_Transformer_LSTM_SG = np.loadtxt('letter_results_Transformer_LSTM_SG.txt')\n",
    "word_Transformer_LSTM_SG = np.loadtxt('word_results_Transformer_LSTM_SG.txt')\n",
    "\n",
    "letter_Transformer_Transformer_SG = np.loadtxt('letter_results_Transformer_Transformer_SG.txt')\n",
    "word_Transformer_Transformer_SG = np.loadtxt('word_results_Transformer_Transformer_SG.txt')"
   ]
  },
  {
   "cell_type": "code",
   "execution_count": 11,
   "id": "62e9b3e2-4b35-47b5-b204-f3110c70601b",
   "metadata": {},
   "outputs": [],
   "source": [
    "# Calculate the average\n",
    "\n",
    "letter_LSTM_LSTM_SG_mean = np.mean(letter_LSTM_LSTM_SG)\n",
    "word_LSTM_LSTM_SG_mean = np.mean(word_LSTM_LSTM_SG)\n",
    "\n",
    "letter_LSTM_Transformer_SG_mean = np.mean(letter_LSTM_Transformer_SG)\n",
    "word_LSTM_Transformer_SG_mean = np.mean(word_LSTM_Transformer_SG)\n",
    "\n",
    "letter_Transformer_LSTM_SG_mean = np.mean(letter_Transformer_LSTM_SG)\n",
    "word_Transformer_LSTM_SG_mean = np.mean(word_Transformer_LSTM_SG)\n",
    "\n",
    "letter_Transformer_Transformer_SG_mean = np.mean(letter_Transformer_Transformer_SG)\n",
    "word_Transformer_Transformer_SG_mean = np.mean(word_Transformer_Transformer_SG)"
   ]
  },
  {
   "cell_type": "code",
   "execution_count": 12,
   "id": "99c18772-2a4d-4da4-818a-5184ac141065",
   "metadata": {},
   "outputs": [],
   "source": [
    "# Calculate the standard deviation\n",
    "\n",
    "letter_LSTM_LSTM_SG_std = np.std(letter_LSTM_LSTM_SG)\n",
    "word_LSTM_LSTM_SG_std = np.std(word_LSTM_LSTM_SG)\n",
    "\n",
    "letter_LSTM_Transformer_SG_std = np.std(letter_LSTM_Transformer_SG)\n",
    "word_LSTM_Transformer_SG_std = np.std(word_LSTM_Transformer_SG)\n",
    "\n",
    "letter_Transformer_LSTM_SG_std = np.std(letter_Transformer_LSTM_SG)\n",
    "word_Transformer_LSTM_SG_std = np.std(word_Transformer_LSTM_SG)\n",
    "\n",
    "letter_Transformer_Transformer_SG_std = np.std(letter_Transformer_Transformer_SG)\n",
    "word_Transformer_Transformer_SG_std = np.std(word_Transformer_Transformer_SG)"
   ]
  },
  {
   "cell_type": "code",
   "execution_count": 19,
   "id": "9a51668e-fd28-40fe-b5fa-8741c1a19a5e",
   "metadata": {},
   "outputs": [],
   "source": [
    "labels = ['LSTM/\\nLSTM', 'LSTM/\\nTransformer', 'Transformer/\\nLSTM', 'Transformer/\\nTransformer']\n",
    "x_pos = np.arange(len(labels))\n",
    "\n",
    "letter_CTEs = [letter_LSTM_LSTM_SG_mean, letter_LSTM_Transformer_SG_mean, \n",
    "               letter_Transformer_LSTM_SG_mean, letter_Transformer_Transformer_SG_mean]\n",
    "word_CTEs = [word_LSTM_LSTM_SG_mean, word_LSTM_Transformer_SG_mean, \n",
    "               word_Transformer_LSTM_SG_mean, word_Transformer_Transformer_SG_mean]\n",
    "\n",
    "letter_error = [letter_LSTM_LSTM_SG_std, letter_LSTM_Transformer_SG_std, \n",
    "               letter_Transformer_LSTM_SG_std, letter_Transformer_Transformer_SG_std]\n",
    "word_error = [word_LSTM_LSTM_SG_std, word_LSTM_Transformer_SG_std, \n",
    "               word_Transformer_LSTM_SG_std, word_Transformer_Transformer_SG_std]"
   ]
  },
  {
   "cell_type": "code",
   "execution_count": 22,
   "id": "41471c73-2f2c-42cd-a083-8216f3aeb314",
   "metadata": {},
   "outputs": [
    {
     "data": {
      "text/plain": [
       "<function matplotlib.pyplot.show(close=None, block=None)>"
      ]
     },
     "execution_count": 22,
     "metadata": {},
     "output_type": "execute_result"
    },
    {
     "data": {
      "image/png": "[encoded data removed]",
      "text/plain": [
       "<Figure size 432x288 with 1 Axes>"
      ]
     },
     "metadata": {
      "needs_background": "light"
     },
     "output_type": "display_data"
    },
    {
     "data": {
      "image/png": "[encoded data removed]",
      "text/plain": [
       "<Figure size 432x288 with 1 Axes>"
      ]
     },
     "metadata": {
      "needs_background": "light"
     },
     "output_type": "display_data"
    }
   ],
   "source": [
    "fig, ax = plt.subplots()\n",
    "ax.bar(x_pos, letter_CTEs,\n",
    "       yerr=letter_error,\n",
    "       align = 'center',\n",
    "       alpha = 0.5,\n",
    "       ecolor = 'black',\n",
    "       capsize=10)\n",
    "ax.set_ylabel('Accuracy (%)')\n",
    "ax.set_xticks(x_pos)\n",
    "ax.set_xticklabels(labels)\n",
    "ax.set_title('Letter accuracy for Standard Generalization (SG)')\n",
    "ax.yaxis.grid(True)\n",
    "\n",
    "plt.tight_layout()\n",
    "plt.show\n",
    "\n",
    "\n",
    "fig, ax = plt.subplots()\n",
    "ax.bar(x_pos, word_CTEs,\n",
    "       yerr=word_error,\n",
    "       align = 'center',\n",
    "       alpha = 0.5,\n",
    "       ecolor = 'black',\n",
    "       capsize=10)\n",
    "ax.set_ylabel('Accuracy (%)')\n",
    "ax.set_xticks(x_pos)\n",
    "ax.set_xticklabels(labels)\n",
    "ax.set_title('Word accuracy for Standard Generalization (SG)')\n",
    "ax.yaxis.grid(True)\n",
    "\n",
    "plt.tight_layout()\n",
    "plt.show"
   ]
  },
  {
   "cell_type": "code",
   "execution_count": null,
   "id": "27790275-6193-4261-9761-a8fdb9f0fc47",
   "metadata": {},
   "outputs": [],
   "source": []
  }
 ],
 "metadata": {
  "kernelspec": {
   "display_name": "Python 3 (ipykernel)",
   "language": "python",
   "name": "python3"
  },
  "language_info": {
   "codemirror_mode": {
    "name": "ipython",
    "version": 3
   },
   "file_extension": ".py",
   "mimetype": "text/x-python",
   "name": "python",
   "nbconvert_exporter": "python",
   "pygments_lexer": "ipython3",
   "version": "3.10.5"
  }
 },
 "nbformat": 4,
 "nbformat_minor": 5
}
