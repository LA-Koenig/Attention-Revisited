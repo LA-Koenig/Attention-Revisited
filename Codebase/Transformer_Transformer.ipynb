{
 "cells": [
  {
   "cell_type": "markdown",
   "id": "ab68325f-539e-427e-acc8-4e2a7208cb79",
   "metadata": {},
   "source": [
    "# Preliminary"
   ]
  },
  {
   "cell_type": "code",
   "execution_count": 2,
   "id": "e08c6cd6-9a61-4e4a-bed1-2d8954762606",
   "metadata": {},
   "outputs": [],
   "source": [
    "import tensorflow as tf\n",
    "import tensorflow_addons as tfa #this had to be installed from github\n",
    "import tensorflow.keras as keras\n",
    "import sys\n",
    "import pickle, random, string\n",
    "import matplotlib.pyplot as plt\n",
    "from pathlib import Path #for nicely dealing with Paths"
   ]
  },
  {
   "cell_type": "code",
   "execution_count": 23,
   "id": "a0b741a2-a3bf-407e-98a3-92e9ce619443",
   "metadata": {},
   "outputs": [],
   "source": [
    "# Ugly patch becasue idk how to make this propperly work\n",
    "sys.path[8] += '/Codebase'"
   ]
  },
  {
   "cell_type": "code",
   "execution_count": 25,
   "id": "26a5cba5-fec0-4ab4-9415-2c525412a32e",
   "metadata": {},
   "outputs": [
    {
     "ename": "ModuleNotFoundError",
     "evalue": "No module named 'embeddingClasses'",
     "output_type": "error",
     "traceback": [
      "\u001b[0;31m---------------------------------------------------------------------------\u001b[0m",
      "\u001b[0;31mModuleNotFoundError\u001b[0m                       Traceback (most recent call last)",
      "Input \u001b[0;32mIn [25]\u001b[0m, in \u001b[0;36m<cell line: 6>\u001b[0;34m()\u001b[0m\n\u001b[1;32m      3\u001b[0m \u001b[38;5;66;03m#sys.path.insert(0, '.') #, path)\u001b[39;00m\n\u001b[1;32m      4\u001b[0m \u001b[38;5;66;03m#import testClass\u001b[39;00m\n\u001b[1;32m      5\u001b[0m \u001b[38;5;28;01mfrom\u001b[39;00m \u001b[38;5;21;01mtestClass\u001b[39;00m \u001b[38;5;28;01mimport\u001b[39;00m\u001b[38;5;241m*\u001b[39m\n\u001b[0;32m----> 6\u001b[0m \u001b[38;5;28;01mfrom\u001b[39;00m \u001b[38;5;21;01membeddingClasses\u001b[39;00m \u001b[38;5;28;01mimport\u001b[39;00m\u001b[38;5;241m*\u001b[39m\n",
      "\u001b[0;31mModuleNotFoundError\u001b[0m: No module named 'embeddingClasses'"
     ]
    }
   ],
   "source": [
    "#my classes\n",
    "path = Path('.')\n",
    "#sys.path.insert(0, '.') #, path)\n",
    "#import testClass\n",
    "from testClass import*\n",
    "from embeddingClasses import*"
   ]
  },
  {
   "cell_type": "code",
   "execution_count": null,
   "id": "85245a00-67d6-41a3-8dd0-f540f43844b1",
   "metadata": {},
   "outputs": [],
   "source": []
  }
 ],
 "metadata": {
  "kernelspec": {
   "display_name": "Python 3 (ipykernel)",
   "language": "python",
   "name": "python3"
  },
  "language_info": {
   "codemirror_mode": {
    "name": "ipython",
    "version": 3
   },
   "file_extension": ".py",
   "mimetype": "text/x-python",
   "name": "python",
   "nbconvert_exporter": "python",
   "pygments_lexer": "ipython3",
   "version": "3.9.10"
  }
 },
 "nbformat": 4,
 "nbformat_minor": 5
}
